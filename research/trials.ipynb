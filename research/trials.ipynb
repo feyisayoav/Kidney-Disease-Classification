{
 "cells": [
  {
   "cell_type": "code",
   "execution_count": 3,
   "metadata": {},
   "outputs": [
    {
     "name": "stdout",
     "output_type": "stream",
     "text": [
      "1_y7Yhg9ozIO6OyKP8lZEeGGa3NEz1iut\n"
     ]
    }
   ],
   "source": [
    "import gdown\n",
    "url = 'https://drive.google.com/file/d/1_y7Yhg9ozIO6OyKP8lZEeGGa3NEz1iut/view?usp=sharing'\n",
    "\n",
    "file_id = url.split('/')[-2]\n",
    "print(file_id)"
   ]
  },
  {
   "cell_type": "code",
   "execution_count": 4,
   "metadata": {},
   "outputs": [
    {
     "name": "stderr",
     "output_type": "stream",
     "text": [
      "Downloading...\n",
      "From (original): https://drive.google.com/uc?/export=download&id=1_y7Yhg9ozIO6OyKP8lZEeGGa3NEz1iut\n",
      "From (redirected): https://drive.usercontent.google.com/download?id=1_y7Yhg9ozIO6OyKP8lZEeGGa3NEz1iut&confirm=t&uuid=d0db53af-90b5-4b5f-8938-115308ae86bf\n",
      "To: c:\\Users\\USER\\Downloads\\MLops Projects\\Kidney-Disease-Classification\\research\\Kidney-ct-scan-image.rar\n",
      "100%|██████████| 69.1M/69.1M [00:27<00:00, 2.54MB/s]\n"
     ]
    },
    {
     "data": {
      "text/plain": [
       "'Kidney-ct-scan-image.rar'"
      ]
     },
     "execution_count": 4,
     "metadata": {},
     "output_type": "execute_result"
    }
   ],
   "source": [
    "prefix= 'https://drive.google.com/uc?/export=download&id='\n",
    "gdown.download(prefix+file_id, 'Kidney-ct-scan-image.rar')"
   ]
  }
 ],
 "metadata": {
  "kernelspec": {
   "display_name": "kidney",
   "language": "python",
   "name": "python3"
  },
  "language_info": {
   "codemirror_mode": {
    "name": "ipython",
    "version": 3
   },
   "file_extension": ".py",
   "mimetype": "text/x-python",
   "name": "python",
   "nbconvert_exporter": "python",
   "pygments_lexer": "ipython3",
   "version": "3.8.18"
  }
 },
 "nbformat": 4,
 "nbformat_minor": 2
}
